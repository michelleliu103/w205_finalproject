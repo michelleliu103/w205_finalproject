{
 "cells": [
  {
   "cell_type": "code",
   "execution_count": 2,
   "metadata": {
    "collapsed": true
   },
   "outputs": [],
   "source": [
    "import requests\n",
    "import pandas as pd\n",
    "import numpy as np\n",
    "import json"
   ]
  },
  {
   "cell_type": "code",
   "execution_count": 3,
   "metadata": {
    "collapsed": false
   },
   "outputs": [
    {
     "name": "stdout",
     "output_type": "stream",
     "text": [
      "{\"probability\": {\"neg\": 0.82807138349387666, \"neutral\": 0.09569942540264019, \"pos\": 0.1719286165061234}, \"label\": \"neg\"}\n"
     ]
    }
   ],
   "source": [
    "#testing\n",
    "r = requests.post(\"https://japerk-text-processing.p.mashape.com/sentiment/\", headers={\n",
    "    \"X-Mashape-Key\": \"\",\n",
    "    \"Content-Type\": \"application/x-www-form-urlencoded\",\n",
    "    \"Accept\": \"application/json\"\n",
    "  }, data={'text': \"awful awful awful awful\"})\n",
    "\n",
    "print(r.text)"
   ]
  },
  {
   "cell_type": "code",
   "execution_count": 4,
   "metadata": {
    "collapsed": false
   },
   "outputs": [],
   "source": [
    "#load sample data from local file\n",
    "data = pd.read_csv(\"file://localhost/C:/Users/ajamar/Desktop/output_2011_abridged.csv\")"
   ]
  },
  {
   "cell_type": "code",
   "execution_count": 10,
   "metadata": {
    "collapsed": false
   },
   "outputs": [],
   "source": [
    "#change index name, add columns for the different sentiment analysis tools\n",
    "data.index.rename(\"Row Number\",inplace=True)\n",
    "data[\"japerk\"] = \"\"\n",
    "data[\"textanalysis\"] = \"\"\n",
    "data[\"sentimentapi\"] = \"\""
   ]
  },
  {
   "cell_type": "code",
   "execution_count": 11,
   "metadata": {
    "collapsed": true
   },
   "outputs": [],
   "source": [
    "def sentiment_analysis_japerk(df,tweets):\n",
    "    \"\"\"Sentiment Analysis Tool #1\"\"\"\n",
    "    ratings = []\n",
    "    counter = 0\n",
    "    for tweet in tweets:\n",
    "        api_request = requests.post(\"https://japerk-text-processing.p.mashape.com/sentiment/\", headers={\n",
    "    \"X-Mashape-Key\": \"\",\n",
    "    \"Content-Type\": \"application/x-www-form-urlencoded\",\n",
    "    \"Accept\": \"application/json\"\n",
    "  }, data={'text': tweet})\n",
    "        rating_dict = json.loads(api_request.text)\n",
    "        rating = rating_dict[\"label\"]\n",
    "        if rating == \"neutral\":\n",
    "            ratings.append(0)\n",
    "            df.ix[counter, \"japerk\"] = 0\n",
    "        elif rating == \"pos\":\n",
    "            ratings.append(1)\n",
    "            df.ix[counter, \"japerk\"] = 1\n",
    "        elif rating == \"neg\":\n",
    "            ratings.append(-1)\n",
    "            df.ix[counter, \"japerk\"] = -1\n",
    "        counter += 1\n",
    "    return np.mean(ratings)"
   ]
  },
  {
   "cell_type": "code",
   "execution_count": 12,
   "metadata": {
    "collapsed": true
   },
   "outputs": [],
   "source": [
    "def sentiment_analysis_textanalysis(df,tweets):\n",
    "    \"\"\"Sentiment Analysis Tool #2\"\"\"    \n",
    "    ratings = []\n",
    "    counter = 0\n",
    "    for tweet in tweets:\n",
    "        api_request = requests.post(\"https://textanalysis-text-sentiment-v1.p.mashape.com/sentiment-analyzer\", headers={\n",
    "    \"X-Mashape-Key\": \"\",\n",
    "    \"Content-Type\": \"application/x-www-form-urlencoded\",\n",
    "    \"Accept\": \"application/json\"\n",
    "  }, data={'text': tweet})\n",
    "        rating_dict = json.loads(api_request.text)\n",
    "        rating = rating_dict[\"sentiment\"]\n",
    "        if rating == \"neutral\":\n",
    "            ratings.append(0)\n",
    "            df.ix[counter, \"textanalysis\"] = 0\n",
    "        elif rating == \"positive\":\n",
    "            ratings.append(1)\n",
    "            df.ix[counter, \"textanalysis\"] = 1\n",
    "        elif rating == \"negative\":\n",
    "            ratings.append(-1)\n",
    "            df.ix[counter, \"textanalysis\"] = -1\n",
    "        counter += 1\n",
    "    return np.mean(ratings)"
   ]
  },
  {
   "cell_type": "code",
   "execution_count": 13,
   "metadata": {
    "collapsed": true
   },
   "outputs": [],
   "source": [
    "def sentiment_analysis_sentimentapi(df,tweets):\n",
    "    \"\"\"Sentiment Analysis Tool #3\"\"\"\n",
    "    ratings = []\n",
    "    counter = 0\n",
    "    for tweet in tweets:\n",
    "        api_request = requests.post(\"https://sentimentapi.p.mashape.com/products/api/extractsentiment?\", headers={\n",
    "    \"X-Mashape-Key\": \"\",\n",
    "    \"Content-Type\": \"application/x-www-form-urlencoded\",\n",
    "    \"Accept\": \"application/json\"\n",
    "  }, data={'text': tweet})\n",
    "        rating_dict = json.loads(api_request.text)\n",
    "        rating = float(rating_dict[\"rating\"])\n",
    "        ratings.append(rating)\n",
    "        df.ix[counter, \"sentimentapi\"] = rating\n",
    "        counter += 1\n",
    "    return np.mean(ratings)"
   ]
  },
  {
   "cell_type": "code",
   "execution_count": 14,
   "metadata": {
    "collapsed": false
   },
   "outputs": [
    {
     "data": {
      "text/html": [
       "<div>\n",
       "<table border=\"1\" class=\"dataframe\">\n",
       "  <thead>\n",
       "    <tr style=\"text-align: right;\">\n",
       "      <th></th>\n",
       "      <th>Date</th>\n",
       "      <th>N/A</th>\n",
       "      <th>Unknown</th>\n",
       "      <th>Tweet</th>\n",
       "      <th>Blank</th>\n",
       "      <th>Tags</th>\n",
       "      <th>Hashtags</th>\n",
       "      <th>Not Applicable</th>\n",
       "      <th>URL</th>\n",
       "      <th>japerk</th>\n",
       "      <th>textanalysis</th>\n",
       "      <th>sentimentapi</th>\n",
       "    </tr>\n",
       "    <tr>\n",
       "      <th>Row Number</th>\n",
       "      <th></th>\n",
       "      <th></th>\n",
       "      <th></th>\n",
       "      <th></th>\n",
       "      <th></th>\n",
       "      <th></th>\n",
       "      <th></th>\n",
       "      <th></th>\n",
       "      <th></th>\n",
       "      <th></th>\n",
       "      <th></th>\n",
       "      <th></th>\n",
       "    </tr>\n",
       "  </thead>\n",
       "  <tbody>\n",
       "    <tr>\n",
       "      <th>0</th>\n",
       "      <td>1/3/2011 23:59</td>\n",
       "      <td>1</td>\n",
       "      <td>1</td>\n",
       "      <td>Bringing a repeal of Obamacare to a vote on th...</td>\n",
       "      <td>NaN</td>\n",
       "      <td>NaN</td>\n",
       "      <td>NaN</td>\n",
       "      <td>2.210000e+16</td>\n",
       "      <td>https://twitter.com/illinoispolicy/status/2207...</td>\n",
       "      <td></td>\n",
       "      <td></td>\n",
       "      <td></td>\n",
       "    </tr>\n",
       "    <tr>\n",
       "      <th>1</th>\n",
       "      <td>1/3/2011 23:59</td>\n",
       "      <td>0</td>\n",
       "      <td>0</td>\n",
       "      <td>#Obamacare working out great so far! My family...</td>\n",
       "      <td>NaN</td>\n",
       "      <td>NaN</td>\n",
       "      <td>#Obamacare #Blue</td>\n",
       "      <td>2.210000e+16</td>\n",
       "      <td>https://twitter.com/edfranks/status/2207954535...</td>\n",
       "      <td></td>\n",
       "      <td></td>\n",
       "      <td></td>\n",
       "    </tr>\n",
       "    <tr>\n",
       "      <th>2</th>\n",
       "      <td>1/3/2011 23:58</td>\n",
       "      <td>0</td>\n",
       "      <td>0</td>\n",
       "      <td>MT @KevinMaddenDC GOP frames HCR repeal as job...</td>\n",
       "      <td>NaN</td>\n",
       "      <td>@KevinMaddenDC</td>\n",
       "      <td>NaN</td>\n",
       "      <td>2.210000e+16</td>\n",
       "      <td>https://twitter.com/RebeccaCarelli/status/2207...</td>\n",
       "      <td></td>\n",
       "      <td></td>\n",
       "      <td></td>\n",
       "    </tr>\n",
       "    <tr>\n",
       "      <th>3</th>\n",
       "      <td>1/3/2011 23:57</td>\n",
       "      <td>0</td>\n",
       "      <td>0</td>\n",
       "      <td>With new Congress being sworn in this week can...</td>\n",
       "      <td>NaN</td>\n",
       "      <td>NaN</td>\n",
       "      <td>NaN</td>\n",
       "      <td>2.210000e+16</td>\n",
       "      <td>https://twitter.com/bfuller96/status/220792523...</td>\n",
       "      <td></td>\n",
       "      <td></td>\n",
       "      <td></td>\n",
       "    </tr>\n",
       "    <tr>\n",
       "      <th>4</th>\n",
       "      <td>1/3/2011 23:56</td>\n",
       "      <td>0</td>\n",
       "      <td>0</td>\n",
       "      <td>@johnboehner please vote for a repel of Obamac...</td>\n",
       "      <td>NaN</td>\n",
       "      <td>@johnboehner</td>\n",
       "      <td>NaN</td>\n",
       "      <td>2.210000e+16</td>\n",
       "      <td>https://twitter.com/FredPond/status/2207898792...</td>\n",
       "      <td></td>\n",
       "      <td></td>\n",
       "      <td></td>\n",
       "    </tr>\n",
       "  </tbody>\n",
       "</table>\n",
       "</div>"
      ],
      "text/plain": [
       "                      Date  N/A  Unknown  \\\n",
       "Row Number                                 \n",
       "0           1/3/2011 23:59    1        1   \n",
       "1           1/3/2011 23:59    0        0   \n",
       "2           1/3/2011 23:58    0        0   \n",
       "3           1/3/2011 23:57    0        0   \n",
       "4           1/3/2011 23:56    0        0   \n",
       "\n",
       "                                                        Tweet  Blank  \\\n",
       "Row Number                                                             \n",
       "0           Bringing a repeal of Obamacare to a vote on th...    NaN   \n",
       "1           #Obamacare working out great so far! My family...    NaN   \n",
       "2           MT @KevinMaddenDC GOP frames HCR repeal as job...    NaN   \n",
       "3           With new Congress being sworn in this week can...    NaN   \n",
       "4           @johnboehner please vote for a repel of Obamac...    NaN   \n",
       "\n",
       "                      Tags          Hashtags  Not Applicable  \\\n",
       "Row Number                                                     \n",
       "0                      NaN               NaN    2.210000e+16   \n",
       "1                      NaN  #Obamacare #Blue    2.210000e+16   \n",
       "2           @KevinMaddenDC               NaN    2.210000e+16   \n",
       "3                      NaN               NaN    2.210000e+16   \n",
       "4             @johnboehner               NaN    2.210000e+16   \n",
       "\n",
       "                                                          URL japerk  \\\n",
       "Row Number                                                             \n",
       "0           https://twitter.com/illinoispolicy/status/2207...          \n",
       "1           https://twitter.com/edfranks/status/2207954535...          \n",
       "2           https://twitter.com/RebeccaCarelli/status/2207...          \n",
       "3           https://twitter.com/bfuller96/status/220792523...          \n",
       "4           https://twitter.com/FredPond/status/2207898792...          \n",
       "\n",
       "           textanalysis sentimentapi  \n",
       "Row Number                            \n",
       "0                                     \n",
       "1                                     \n",
       "2                                     \n",
       "3                                     \n",
       "4                                     "
      ]
     },
     "execution_count": 14,
     "metadata": {},
     "output_type": "execute_result"
    }
   ],
   "source": [
    "data.head()"
   ]
  },
  {
   "cell_type": "code",
   "execution_count": 16,
   "metadata": {
    "collapsed": true
   },
   "outputs": [],
   "source": [
    "data = data.head()"
   ]
  },
  {
   "cell_type": "code",
   "execution_count": 17,
   "metadata": {
    "collapsed": false
   },
   "outputs": [
    {
     "data": {
      "text/plain": [
       "0.0"
      ]
     },
     "execution_count": 17,
     "metadata": {},
     "output_type": "execute_result"
    }
   ],
   "source": [
    "sentiment_analysis_japerk(data, data[\"Tweet\"])"
   ]
  },
  {
   "cell_type": "code",
   "execution_count": 33,
   "metadata": {
    "collapsed": false
   },
   "outputs": [],
   "source": [
    "#read in larger set of data from local file\n",
    "full_data = pd.read_csv(\"file://localhost/C:/Users/ajamar/Desktop/output_2011_5000.csv\")"
   ]
  },
  {
   "cell_type": "code",
   "execution_count": 34,
   "metadata": {
    "collapsed": true
   },
   "outputs": [],
   "source": [
    "#change index name, add columns for the different sentiment analysis tools\n",
    "full_data.index.rename(\"Row Number\",inplace=True)\n",
    "full_data[\"japerk\"] = \"\"\n",
    "full_data[\"textanalysis\"] = \"\"\n",
    "full_data[\"sentimentapi\"] = \"\""
   ]
  },
  {
   "cell_type": "code",
   "execution_count": 36,
   "metadata": {
    "collapsed": false
   },
   "outputs": [],
   "source": [
    "#limit data to 1,000 rows\n",
    "full_data = full_data.head(1000)"
   ]
  },
  {
   "cell_type": "code",
   "execution_count": 37,
   "metadata": {
    "collapsed": false
   },
   "outputs": [
    {
     "data": {
      "text/plain": [
       "0.13200000000000001"
      ]
     },
     "execution_count": 37,
     "metadata": {},
     "output_type": "execute_result"
    }
   ],
   "source": [
    "#test sentiment analysis package 1\n",
    "sentiment_analysis_japerk(full_data, full_data[\"Tweet\"])"
   ]
  },
  {
   "cell_type": "code",
   "execution_count": 38,
   "metadata": {
    "collapsed": false
   },
   "outputs": [
    {
     "data": {
      "text/plain": [
       "-0.57799999999999996"
      ]
     },
     "execution_count": 38,
     "metadata": {},
     "output_type": "execute_result"
    }
   ],
   "source": [
    "#test sentiment analysis package 2\n",
    "sentiment_analysis_textanalysis(full_data, full_data[\"Tweet\"])"
   ]
  },
  {
   "cell_type": "code",
   "execution_count": 39,
   "metadata": {
    "collapsed": false
   },
   "outputs": [
    {
     "data": {
      "text/plain": [
       "3.7360000000000002"
      ]
     },
     "execution_count": 39,
     "metadata": {},
     "output_type": "execute_result"
    }
   ],
   "source": [
    "#test sentiment analysis package 3\n",
    "sentiment_analysis_sentimentapi(full_data, full_data[\"Tweet\"])"
   ]
  },
  {
   "cell_type": "code",
   "execution_count": 45,
   "metadata": {
    "collapsed": false
   },
   "outputs": [],
   "source": [
    "#save results to csv\n",
    "full_data.to_csv(\"205_sentiment_analysis\", encoding = 'utf-8')"
   ]
  },
  {
   "cell_type": "code",
   "execution_count": null,
   "metadata": {
    "collapsed": true
   },
   "outputs": [],
   "source": []
  }
 ],
 "metadata": {
  "kernelspec": {
   "display_name": "Python 3",
   "language": "python",
   "name": "python3"
  },
  "language_info": {
   "codemirror_mode": {
    "name": "ipython",
    "version": 3
   },
   "file_extension": ".py",
   "mimetype": "text/x-python",
   "name": "python",
   "nbconvert_exporter": "python",
   "pygments_lexer": "ipython3",
   "version": "3.5.1"
  }
 },
 "nbformat": 4,
 "nbformat_minor": 0
}
